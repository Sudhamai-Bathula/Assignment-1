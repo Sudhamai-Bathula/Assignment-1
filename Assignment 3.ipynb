{
 "cells": [
  {
   "cell_type": "markdown",
   "metadata": {},
   "source": [
    "### Question 1.1"
   ]
  },
  {
   "cell_type": "code",
   "execution_count": null,
   "metadata": {},
   "outputs": [],
   "source": [
    "lst = [1,2,3,4,5,6]\n",
    "def myreduce(fun, lst):\n",
    "    a = lst[0]\n",
    "    for i in range(1, len(lst)):\n",
    "        a = fun(a,lst[i])\n",
    "    return a\n",
    "def add(x,y):\n",
    "    return x + y\n",
    "print(myreduce(add,lst))"
   ]
  },
  {
   "cell_type": "markdown",
   "metadata": {},
   "source": [
    "### Question 1.2"
   ]
  },
  {
   "cell_type": "code",
   "execution_count": null,
   "metadata": {},
   "outputs": [],
   "source": [
    "lst = [1,2,3,4,5,6]\n",
    "def myfilter(fun, lst):\n",
    "    x = []\n",
    "    y = []\n",
    "    for i in lst:\n",
    "        x.append(fun(i))\n",
    "    for i in range(0, len(x)):\n",
    "        if x[i] == False:\n",
    "            continue\n",
    "        else:\n",
    "            y.append(x[i])\n",
    "    return y\n",
    "def even(i):\n",
    "    if i%2 == 0:\n",
    "        return i\n",
    "    else:\n",
    "        return False\n",
    "print(myfilter(even,lst))"
   ]
  },
  {
   "cell_type": "markdown",
   "metadata": {},
   "source": [
    "### Question 2"
   ]
  },
  {
   "cell_type": "code",
   "execution_count": null,
   "metadata": {},
   "outputs": [],
   "source": [
    "lst=['x','y','z']"
   ]
  },
  {
   "cell_type": "code",
   "execution_count": null,
   "metadata": {},
   "outputs": [],
   "source": [
    "lst1 = [i * j for j in lst for i in range(1, 5)]\n",
    "print(lst1)"
   ]
  },
  {
   "cell_type": "code",
   "execution_count": null,
   "metadata": {},
   "outputs": [],
   "source": [
    "lst2 = [i * j for j in range(1, 5) for i in lst]\n",
    "print(lst2)"
   ]
  },
  {
   "cell_type": "code",
   "execution_count": null,
   "metadata": {},
   "outputs": [],
   "source": [
    "lst3 = [[i + j] for j in [0, 1, 2] for i in range(2, 5)]\n",
    "lst4 = [[i + j for j in [0, 1, 2, 3]] for i in range(2, 6)]\n",
    "print(lst3,lst4)"
   ]
  },
  {
   "cell_type": "code",
   "execution_count": null,
   "metadata": {},
   "outputs": [],
   "source": [
    "lst5 = [(i,j) for j in [1, 2, 3] for i in [1, 2, 3]]\n",
    "print(lst5)"
   ]
  },
  {
   "cell_type": "code",
   "execution_count": null,
   "metadata": {},
   "outputs": [],
   "source": []
  },
  {
   "cell_type": "code",
   "execution_count": null,
   "metadata": {},
   "outputs": [],
   "source": []
  }
 ],
 "metadata": {
  "kernelspec": {
   "display_name": "Python 3",
   "language": "python",
   "name": "python3"
  },
  "language_info": {
   "codemirror_mode": {
    "name": "ipython",
    "version": 3
   },
   "file_extension": ".py",
   "mimetype": "text/x-python",
   "name": "python",
   "nbconvert_exporter": "python",
   "pygments_lexer": "ipython3",
   "version": "3.7.4"
  }
 },
 "nbformat": 4,
 "nbformat_minor": 2
}
